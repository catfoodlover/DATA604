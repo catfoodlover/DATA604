{
  "nbformat": 4,
  "nbformat_minor": 0,
  "metadata": {
    "colab": {
      "provenance": [],
      "authorship_tag": "ABX9TyPZf+98kNSHbdxbAP02EBKj",
      "include_colab_link": true
    },
    "kernelspec": {
      "name": "python3",
      "display_name": "Python 3"
    },
    "language_info": {
      "name": "python"
    }
  },
  "cells": [
    {
      "cell_type": "markdown",
      "metadata": {
        "id": "view-in-github",
        "colab_type": "text"
      },
      "source": [
        "<a href=\"https://colab.research.google.com/github/catfoodlover/DATA604/blob/main/DATA604_Simulation_Practice.ipynb\" target=\"_parent\"><img src=\"https://colab.research.google.com/assets/colab-badge.svg\" alt=\"Open In Colab\"/></a>"
      ]
    },
    {
      "cell_type": "markdown",
      "source": [
        "Based on this practice exercise, other factors could be considerd to build a stronger simulations.  An imbalance in resource allocation could change the properties of the model.  Imagine you have too many cashiers but not enough servers or ushers.  If you are getting people into the theater faster than the system can accomodate it may slow down other parts of the system.  If there are too many people waiting to get their ticket taken it may actually increase the amount of time that it takes to process a ticket.  Or if people aren't getting there tickets taken fast enough they may skip getting snacks at the snack bar.  The relationship between the parts could be modeled more complexly.\n",
        "\n",
        "Professionally I build models that show surgeons the perioperative and postoperate outcomes for a particular surgical procedure.  We know that outcomes can't be viewed in isolation.  It's been show accross services that surgeons who most aggressively discharge their patients postoperatively have the highest 30 readmission rates.  It should be noted that there are many good reasons to get patients home as quickly as possible (low risk of depression, infections, falled, delirium).  I could simulate the relationship between lenght of stay and readmission to see if there is an optimal lenght of stay that doesn't drastically increase the readmission rates."
      ],
      "metadata": {
        "id": "K3hqaS8cvbAe"
      }
    },
    {
      "cell_type": "code",
      "execution_count": 21,
      "metadata": {
        "id": "s-eerR56psWW"
      },
      "outputs": [],
      "source": [
        "# Set up the environment\n",
        "import simpy\n",
        "import random\n",
        "import statistics"
      ]
    },
    {
      "cell_type": "code",
      "source": [
        "wait_times = []"
      ],
      "metadata": {
        "id": "8eAVIbKEq_iV"
      },
      "execution_count": 22,
      "outputs": []
    },
    {
      "cell_type": "code",
      "source": [
        "class Theater(object):\n",
        "    def __init__(self, env, num_cashiers):\n",
        "        self.env = env\n",
        "        self.cashier = simpy.Resource(env, num_cashiers)\n",
        "\n",
        "    def purchase_ticket(self, moviegoer):\n",
        "        yield self.env.timeout(random.randint(1, 3))\n"
      ],
      "metadata": {
        "id": "8wCpkWiMrm8-"
      },
      "execution_count": 23,
      "outputs": []
    },
    {
      "cell_type": "code",
      "source": [
        "def go_to_movies(env, moviegoer, theater):\n",
        "    # Moviegoer arrives at the theater\n",
        "    arrival_time = env.now\n",
        "\n",
        "    with theater.cashier.request() as request:\n",
        "        yield request\n",
        "        yield env.process(theater.purchase_ticket(moviegoer))\n",
        "\n",
        "    with theater.usher.request() as request:\n",
        "        yield request\n",
        "        yield env.process(theater.check_ticket(moviegoer))\n",
        "\n",
        "    if random.choice([True, False]):\n",
        "        with theater.server.request() as request:\n",
        "            yield request\n",
        "            yield env.process(theater.sell_food(moviegoer))\n",
        "\n",
        "    # Moviegoer heads into the theater\n",
        "    wait_times.append(env.now - arrival_time)\n",
        "\n",
        "\n",
        "\n"
      ],
      "metadata": {
        "id": "Eql3MQQJsY2Z"
      },
      "execution_count": 24,
      "outputs": []
    },
    {
      "cell_type": "code",
      "source": [
        "def run_theater(env, num_cashiers, num_servers, num_ushers):\n",
        "    theater = Theater(env, num_cashiers, num_servers, num_ushers)\n",
        "\n",
        "    for moviegoer in range(3):\n",
        "        env.process(go_to_movies(env, moviegoer, theater))\n",
        "\n",
        "    while True:\n",
        "        yield env.timeout(0.20)  # Wait a bit before generating a new person\n",
        "\n",
        "        moviegoer += 1\n",
        "        env.process(go_to_movies(env, moviegoer, theater))"
      ],
      "metadata": {
        "id": "KL_lINoTsl2o"
      },
      "execution_count": 25,
      "outputs": []
    },
    {
      "cell_type": "code",
      "source": [
        "def get_average_wait_time(wait_times):\n",
        "    average_wait = statistics.mean(wait_times)\n"
      ],
      "metadata": {
        "id": "e9O_SDZFsrVo"
      },
      "execution_count": 26,
      "outputs": []
    },
    {
      "cell_type": "code",
      "source": [
        "def calculate_wait_time(arrival_times, departure_times):\n",
        "    average_wait = statistics.mean(wait_times)\n",
        "    # Pretty print the results\n",
        "    minutes, frac_minutes = divmod(average_wait, 1)\n",
        "    seconds = frac_minutes * 60\n",
        "    return round(minutes), round(seconds)\n"
      ],
      "metadata": {
        "id": "PYXmRDaFs07Q"
      },
      "execution_count": 27,
      "outputs": []
    },
    {
      "cell_type": "code",
      "source": [
        "def get_user_input():\n",
        "    num_cashiers = input(\"Input # of cashiers working: \")\n",
        "    num_servers = input(\"Input # of servers working: \")\n",
        "    num_ushers = input(\"Input # of ushers working: \")\n",
        "    params = [num_cashiers, num_servers, num_ushers]\n",
        "    if all(str(i).isdigit() for i in params):  # Check input is valid\n",
        "        params = [int(x) for x in params]\n",
        "    else:\n",
        "        print(\n",
        "            \"Could not parse input. The simulation will use default values:\",\n",
        "            \"\\n1 cashier, 1 server, 1 usher.\",\n",
        "        )\n",
        "        params = [1, 1, 1]\n",
        "    return params\n"
      ],
      "metadata": {
        "id": "aF0B0H0ns4oI"
      },
      "execution_count": 28,
      "outputs": []
    },
    {
      "cell_type": "code",
      "source": [
        "def main():\n",
        "  # Setup\n",
        "  random.seed(42)\n",
        "  num_cashiers, num_servers, num_ushers = get_user_input()\n",
        "\n",
        "  # Run the simulation\n",
        "  env = simpy.Environment()\n",
        "  env.process(run_theater(env, num_cashiers, num_servers, num_ushers))\n",
        "  env.run(until=90)\n",
        "\n",
        "  # View the results\n",
        "  mins, secs = get_average_wait_time(wait_times)\n",
        "  print(\n",
        "      \"Running simulation...\",\n",
        "      f\"\\nThe average wait time is {mins} minutes and {secs} seconds.\",\n",
        "  )\n"
      ],
      "metadata": {
        "id": "9QiWM0BBs87Q"
      },
      "execution_count": 29,
      "outputs": []
    },
    {
      "cell_type": "code",
      "source": [
        "if __name__ == '__main__':\n",
        "    main()\n"
      ],
      "metadata": {
        "colab": {
          "base_uri": "https://localhost:8080/",
          "height": 484
        },
        "id": "3J5BAvR0tC6X",
        "outputId": "3f385137-f66b-4f66-f646-a4ba100d978b"
      },
      "execution_count": 30,
      "outputs": [
        {
          "name": "stdout",
          "output_type": "stream",
          "text": [
            "Input # of cashiers working: 1\n",
            "Input # of servers working: 1\n",
            "Input # of ushers working: 1\n"
          ]
        },
        {
          "output_type": "error",
          "ename": "TypeError",
          "evalue": "ignored",
          "traceback": [
            "\u001b[0;31m---------------------------------------------------------------------------\u001b[0m",
            "\u001b[0;31mTypeError\u001b[0m                                 Traceback (most recent call last)",
            "\u001b[0;32m<ipython-input-25-0fbf9f3526c0>\u001b[0m in \u001b[0;36mrun_theater\u001b[0;34m(env, num_cashiers, num_servers, num_ushers)\u001b[0m\n\u001b[1;32m      1\u001b[0m \u001b[0;32mdef\u001b[0m \u001b[0mrun_theater\u001b[0m\u001b[0;34m(\u001b[0m\u001b[0menv\u001b[0m\u001b[0;34m,\u001b[0m \u001b[0mnum_cashiers\u001b[0m\u001b[0;34m,\u001b[0m \u001b[0mnum_servers\u001b[0m\u001b[0;34m,\u001b[0m \u001b[0mnum_ushers\u001b[0m\u001b[0;34m)\u001b[0m\u001b[0;34m:\u001b[0m\u001b[0;34m\u001b[0m\u001b[0;34m\u001b[0m\u001b[0m\n\u001b[0;32m----> 2\u001b[0;31m     \u001b[0mtheater\u001b[0m \u001b[0;34m=\u001b[0m \u001b[0mTheater\u001b[0m\u001b[0;34m(\u001b[0m\u001b[0menv\u001b[0m\u001b[0;34m,\u001b[0m \u001b[0mnum_cashiers\u001b[0m\u001b[0;34m,\u001b[0m \u001b[0mnum_servers\u001b[0m\u001b[0;34m,\u001b[0m \u001b[0mnum_ushers\u001b[0m\u001b[0;34m)\u001b[0m\u001b[0;34m\u001b[0m\u001b[0;34m\u001b[0m\u001b[0m\n\u001b[0m\u001b[1;32m      3\u001b[0m \u001b[0;34m\u001b[0m\u001b[0m\n",
            "\u001b[0;31mTypeError\u001b[0m: __init__() takes 3 positional arguments but 5 were given",
            "\nThe above exception was the direct cause of the following exception:\n",
            "\u001b[0;31mTypeError\u001b[0m                                 Traceback (most recent call last)",
            "\u001b[0;32m<ipython-input-30-c7bc734e5e35>\u001b[0m in \u001b[0;36m<module>\u001b[0;34m\u001b[0m\n\u001b[1;32m      1\u001b[0m \u001b[0;32mif\u001b[0m \u001b[0m__name__\u001b[0m \u001b[0;34m==\u001b[0m \u001b[0;34m'__main__'\u001b[0m\u001b[0;34m:\u001b[0m\u001b[0;34m\u001b[0m\u001b[0;34m\u001b[0m\u001b[0m\n\u001b[0;32m----> 2\u001b[0;31m     \u001b[0mmain\u001b[0m\u001b[0;34m(\u001b[0m\u001b[0;34m)\u001b[0m\u001b[0;34m\u001b[0m\u001b[0;34m\u001b[0m\u001b[0m\n\u001b[0m",
            "\u001b[0;32m<ipython-input-29-d40d410f2af9>\u001b[0m in \u001b[0;36mmain\u001b[0;34m()\u001b[0m\n\u001b[1;32m      7\u001b[0m   \u001b[0menv\u001b[0m \u001b[0;34m=\u001b[0m \u001b[0msimpy\u001b[0m\u001b[0;34m.\u001b[0m\u001b[0mEnvironment\u001b[0m\u001b[0;34m(\u001b[0m\u001b[0;34m)\u001b[0m\u001b[0;34m\u001b[0m\u001b[0;34m\u001b[0m\u001b[0m\n\u001b[1;32m      8\u001b[0m   \u001b[0menv\u001b[0m\u001b[0;34m.\u001b[0m\u001b[0mprocess\u001b[0m\u001b[0;34m(\u001b[0m\u001b[0mrun_theater\u001b[0m\u001b[0;34m(\u001b[0m\u001b[0menv\u001b[0m\u001b[0;34m,\u001b[0m \u001b[0mnum_cashiers\u001b[0m\u001b[0;34m,\u001b[0m \u001b[0mnum_servers\u001b[0m\u001b[0;34m,\u001b[0m \u001b[0mnum_ushers\u001b[0m\u001b[0;34m)\u001b[0m\u001b[0;34m)\u001b[0m\u001b[0;34m\u001b[0m\u001b[0;34m\u001b[0m\u001b[0m\n\u001b[0;32m----> 9\u001b[0;31m   \u001b[0menv\u001b[0m\u001b[0;34m.\u001b[0m\u001b[0mrun\u001b[0m\u001b[0;34m(\u001b[0m\u001b[0muntil\u001b[0m\u001b[0;34m=\u001b[0m\u001b[0;36m90\u001b[0m\u001b[0;34m)\u001b[0m\u001b[0;34m\u001b[0m\u001b[0;34m\u001b[0m\u001b[0m\n\u001b[0m\u001b[1;32m     10\u001b[0m \u001b[0;34m\u001b[0m\u001b[0m\n\u001b[1;32m     11\u001b[0m   \u001b[0;31m# View the results\u001b[0m\u001b[0;34m\u001b[0m\u001b[0;34m\u001b[0m\u001b[0;34m\u001b[0m\u001b[0m\n",
            "\u001b[0;32m/usr/local/lib/python3.8/dist-packages/simpy/core.py\u001b[0m in \u001b[0;36mrun\u001b[0;34m(self, until)\u001b[0m\n\u001b[1;32m    252\u001b[0m         \u001b[0;32mtry\u001b[0m\u001b[0;34m:\u001b[0m\u001b[0;34m\u001b[0m\u001b[0;34m\u001b[0m\u001b[0m\n\u001b[1;32m    253\u001b[0m             \u001b[0;32mwhile\u001b[0m \u001b[0;32mTrue\u001b[0m\u001b[0;34m:\u001b[0m\u001b[0;34m\u001b[0m\u001b[0;34m\u001b[0m\u001b[0m\n\u001b[0;32m--> 254\u001b[0;31m                 \u001b[0mself\u001b[0m\u001b[0;34m.\u001b[0m\u001b[0mstep\u001b[0m\u001b[0;34m(\u001b[0m\u001b[0;34m)\u001b[0m\u001b[0;34m\u001b[0m\u001b[0;34m\u001b[0m\u001b[0m\n\u001b[0m\u001b[1;32m    255\u001b[0m         \u001b[0;32mexcept\u001b[0m \u001b[0mStopSimulation\u001b[0m \u001b[0;32mas\u001b[0m \u001b[0mexc\u001b[0m\u001b[0;34m:\u001b[0m\u001b[0;34m\u001b[0m\u001b[0;34m\u001b[0m\u001b[0m\n\u001b[1;32m    256\u001b[0m             \u001b[0;32mreturn\u001b[0m \u001b[0mexc\u001b[0m\u001b[0;34m.\u001b[0m\u001b[0margs\u001b[0m\u001b[0;34m[\u001b[0m\u001b[0;36m0\u001b[0m\u001b[0;34m]\u001b[0m  \u001b[0;31m# == until.value\u001b[0m\u001b[0;34m\u001b[0m\u001b[0;34m\u001b[0m\u001b[0m\n",
            "\u001b[0;32m/usr/local/lib/python3.8/dist-packages/simpy/core.py\u001b[0m in \u001b[0;36mstep\u001b[0;34m(self)\u001b[0m\n\u001b[1;32m    204\u001b[0m             \u001b[0mexc\u001b[0m \u001b[0;34m=\u001b[0m \u001b[0mtype\u001b[0m\u001b[0;34m(\u001b[0m\u001b[0mevent\u001b[0m\u001b[0;34m.\u001b[0m\u001b[0m_value\u001b[0m\u001b[0;34m)\u001b[0m\u001b[0;34m(\u001b[0m\u001b[0;34m*\u001b[0m\u001b[0mevent\u001b[0m\u001b[0;34m.\u001b[0m\u001b[0m_value\u001b[0m\u001b[0;34m.\u001b[0m\u001b[0margs\u001b[0m\u001b[0;34m)\u001b[0m\u001b[0;34m\u001b[0m\u001b[0;34m\u001b[0m\u001b[0m\n\u001b[1;32m    205\u001b[0m             \u001b[0mexc\u001b[0m\u001b[0;34m.\u001b[0m\u001b[0m__cause__\u001b[0m \u001b[0;34m=\u001b[0m \u001b[0mevent\u001b[0m\u001b[0;34m.\u001b[0m\u001b[0m_value\u001b[0m\u001b[0;34m\u001b[0m\u001b[0;34m\u001b[0m\u001b[0m\n\u001b[0;32m--> 206\u001b[0;31m             \u001b[0;32mraise\u001b[0m \u001b[0mexc\u001b[0m\u001b[0;34m\u001b[0m\u001b[0;34m\u001b[0m\u001b[0m\n\u001b[0m\u001b[1;32m    207\u001b[0m \u001b[0;34m\u001b[0m\u001b[0m\n\u001b[1;32m    208\u001b[0m     def run(\n",
            "\u001b[0;31mTypeError\u001b[0m: __init__() takes 3 positional arguments but 5 were given"
          ]
        }
      ]
    }
  ]
}